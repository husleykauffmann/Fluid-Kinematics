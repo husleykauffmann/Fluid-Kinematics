{
 "cells": [
  {
   "cell_type": "markdown",
   "id": "c2389100-9a60-467e-a012-52af13bf9004",
   "metadata": {},
   "source": [
    "# Fluid Kinematics"
   ]
  },
  {
   "cell_type": "markdown",
   "id": "73f6b5e2-db89-40b9-804c-31c405aaef04",
   "metadata": {},
   "source": [
    "The Velocity vector is a 4 dimensional function. It is a function of 3 spatial variables as well as a temporal variable.  \n",
    "It is worth mentioning that for the cases approached here, the expressions are derived for a single particle present in the flow"
   ]
  },
  {
   "cell_type": "markdown",
   "id": "7823c24d-8b13-49a4-b889-17a7ce39297d",
   "metadata": {},
   "source": [
    "$\\vec{V}=\\vec{V}(x,y,z,t)$  \n",
    "<br>$\\vec{V}=u(x,y,z,t)\\hat{\\imath} + v(x,y,z,t)\\hat{\\jmath} + w(x,y,z,t)\\hat{k}$"
   ]
  },
  {
   "cell_type": "markdown",
   "id": "25c0953d-5537-4323-b2cf-bb456d872bb9",
   "metadata": {
    "tags": []
   },
   "source": [
    "### Acceleration field  \n",
    "\n",
    "Thus, one must apply the time derivative in order to obtain the acceleration vector.  \n",
    "<br>$\\vec{a}(x,y,z,t)=\\frac{d(\\vec{V})}{dt}=\\frac{\\partial(\\vec{V})}{\\partial t} +u\\frac{\\partial(\\vec{V})}{\\partial x}+v\\frac{\\partial(\\vec{V})}{\\partial y}+ w\\frac{\\partial(\\vec{V})}{\\partial z} $  "
   ]
  },
  {
   "cell_type": "markdown",
   "id": "fb319fa7-c033-4fed-830d-d755da370526",
   "metadata": {},
   "source": [
    "$\\frac{d(\\vec{V})}{dt}=\\vec{a}=\\vec{a}(x,y,z,t)$  \n",
    "<br>However, this expression is more usefully expressed as:  \n",
    "<br>$\\vec{a}(x,y,z,t)=\\frac{d(\\vec{V})}{dt}=\\frac{\\partial(\\vec{V})}{\\partial t} +u\\frac{\\partial(\\vec{V})}{\\partial x}+v\\frac{\\partial(\\vec{V})}{\\partial y}+ w\\frac{\\partial(\\vec{V})}{\\partial z} $  \n",
    "<br>Thus, the expression shown above can be more concisely expressed as: <br>   \n",
    "<br>$\\vec{a}(x,y,z,t)=\\frac{d(\\vec{V})}{dt}= \\frac{\\partial(\\vec{V})}{\\partial t}+ (\\vec{V} \\centerdot  \\vec{\\nabla})\\vec{V}$    <br>\n",
    "<br>The gradient operator will derive each velocity vector in all three spacial dimensions $\\hat{i} , \\hat{j} , \\hat{k}$.  \n",
    "It is, perhaps, more useful in order to plot and visualize the acceleration vector divinding it in three components, as the gradient operator keeps them mingled together.  <br>\n",
    "<br>$\\vec{\\nabla}=\\frac{\\partial}{\\partial x}\\hat{i} + \\frac{\\partial}{\\partial y}\\hat{j} + \\frac{\\partial}{\\partial z}\\hat{k}$  \n",
    "<br>In the same way functions for each velocity component were used to express the velocity vector, functions for each component of the acceleration will also be used in order to facilitate the visualisation of the acceleration vector.  \n",
    "<br>$a_x=\\frac{\\partial u}{\\partial t} + u\\frac{\\partial u}{\\partial x} + v\\frac{\\partial u}{\\partial y}+ w\\frac{\\partial u}{\\partial z}$  \n",
    "<br>$a_y=\\frac{\\partial v}{\\partial t} + u\\frac{\\partial v}{\\partial x} + v\\frac{\\partial v}{\\partial y}+ w\\frac{\\partial v}{\\partial z}$  \n",
    "<br>$a_z=\\frac{\\partial w}{\\partial t} + u\\frac{\\partial w}{\\partial x} + v\\frac{\\partial w}{\\partial y}+ w\\frac{\\partial w}{\\partial z}$  \n",
    "<br>$\\vec{a}=a_x\\hat{i}+a_y\\hat{j}+a_z\\hat{k}$"
   ]
  },
  {
   "cell_type": "markdown",
   "id": "766f6c5e-5268-49b4-8658-925648f250b6",
   "metadata": {
    "tags": []
   },
   "source": [
    "## Example 1"
   ]
  },
  {
   "cell_type": "markdown",
   "id": "a89f85d6-6ef9-4da8-9878-7604248b4e4a",
   "metadata": {},
   "source": [
    "Steady incompressible two dimensional flow is given by:  \n",
    "$\\vec{V}= (u,v) = (0.5+ 0.8x)\\hat{i} + (1.5 - 0.8y)\\hat{j}$    \n",
    "Plot the Velocity and acceleration fields and find the equilibrium and stagnation points, for the given boundaries:   \n",
    "$-2<x<2$  \n",
    "$0<y<5$"
   ]
  },
  {
   "cell_type": "markdown",
   "id": "60390360-2471-4132-a416-aa204365b149",
   "metadata": {},
   "source": [
    "## Example 2"
   ]
  },
  {
   "cell_type": "markdown",
   "id": "697ab7c6-a8c7-4bf8-9480-326a02108f89",
   "metadata": {},
   "source": [
    "Steady, incompressible flow is given by:  \n",
    "<br> $\\vec{V}=(0.523-1.88x+ 3.94y)\\hat{i} + (-2.44+1.26x + 1.88y)\\hat{j}$  \n",
    "<br>Calculate the acceleration at $(x,y)=(-1.55,2.07)$"
   ]
  },
  {
   "cell_type": "markdown",
   "id": "3d0014ff-96f9-4dcc-8b83-85278bb13240",
   "metadata": {},
   "source": [
    "## Example 3\n",
    "\n",
    "The flow in a region is described by:  \n",
    "<br>$\\vec{V}=(xz^2e^{-t})\\hat{i} + 5(zsin(x)e^{-2t})\\hat{j} + (zcos(x)e^{-3t})\\hat{k})$  \n",
    "<br>Show the streamline for all six planes of velocity and acceleration  "
   ]
  }
 ],
 "metadata": {
  "kernelspec": {
   "display_name": "Python 3 (ipykernel)",
   "language": "python",
   "name": "python3"
  },
  "language_info": {
   "codemirror_mode": {
    "name": "ipython",
    "version": 3
   },
   "file_extension": ".py",
   "mimetype": "text/x-python",
   "name": "python",
   "nbconvert_exporter": "python",
   "pygments_lexer": "ipython3",
   "version": "3.11.2"
  }
 },
 "nbformat": 4,
 "nbformat_minor": 5
}
