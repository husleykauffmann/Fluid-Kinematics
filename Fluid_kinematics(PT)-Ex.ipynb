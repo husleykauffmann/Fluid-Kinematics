{
 "cells": [
  {
   "cell_type": "markdown",
   "id": "c2389100-9a60-467e-a012-52af13bf9004",
   "metadata": {},
   "source": [
    "# Cinemática de Fluidos"
   ]
  },
  {
   "cell_type": "markdown",
   "id": "73f6b5e2-db89-40b9-804c-31c405aaef04",
   "metadata": {},
   "source": [
    "O vetor velocidade é uma função de 4 dimensões. É uma função de 3 variáveis espaciais, bem como uma variável temporal.\n",
    "Vale ressaltar que para os casos aqui abordados, as expressões são derivadas para uma única partícula presente no escoamento."
   ]
  },
  {
   "cell_type": "markdown",
   "id": "7823c24d-8b13-49a4-b889-17a7ce39297d",
   "metadata": {},
   "source": [
    "$\\vec{V}=\\vec{V}(x,y,z,t)$  \n",
    "<br>$\\vec{V}=u(x,y,z,t)\\hat{\\imath} + v(x,y,z,t)\\hat{\\jmath} + w(x,y,z,t)\\hat{k}$"
   ]
  },
  {
   "cell_type": "markdown",
   "id": "25c0953d-5537-4323-b2cf-bb456d872bb9",
   "metadata": {
    "tags": []
   },
   "source": [
    "### Campo de aceleração  \n",
    "\n",
    "Logo, deve-se aplicar a derivada do tempo para obter o vetor aceleração.   \n",
    "<br>$\\vec{a}(x,y,z,t)=\\frac{d(\\vec{V})}{dt}=\\frac{\\partial(\\vec{V})}{\\partial t} +u\\frac{\\partial(\\vec{V})}{\\partial x}+v\\frac{\\partial(\\vec{V})}{\\partial y}+ w\\frac{\\partial(\\vec{V})}{\\partial z} $  "
   ]
  },
  {
   "cell_type": "markdown",
   "id": "fb319fa7-c033-4fed-830d-d755da370526",
   "metadata": {},
   "source": [
    "$\\frac{d(\\vec{V})}{dt}=\\vec{a}=\\vec{a}(x,y,z,t)$  \n",
    "<br>No entanto, essa expressão é expressa de maneira mais útil como:  \n",
    "<br>$\\vec{a}(x,y,z,t)=\\frac{d(\\vec{V})}{dt}=\\frac{\\partial(\\vec{V})}{\\partial t} +u\\frac{\\partial(\\vec{V})}{\\partial x}+v\\frac{\\partial(\\vec{V})}{\\partial y}+ w\\frac{\\partial(\\vec{V})}{\\partial z} $  \n",
    "<br>Assim, a expressão mostrada acima pode ser expressa de forma mais concisa como: <br>   \n",
    "<br>$\\vec{a}(x,y,z,t)=\\frac{d(\\vec{V})}{dt}= \\frac{\\partial(\\vec{V})}{\\partial t}+ (\\vec{V} \\centerdot  \\vec{\\nabla})\\vec{V}$    <br>\n",
    "<br>O operador de gradiente derivará cada vetor de velocidade em todas as três dimensões espaciais $\\hat{i} , \\hat{j} , \\hat{k}$.\n",
    "Talvez seja mais útil para plotar e visualizar o vetor aceleração dividindo-o em três componentes, pois o operador gradiente os mantém misturados.  <br>\n",
    "<br>$\\vec{\\nabla}=\\frac{\\partial}{\\partial x}\\hat{i} + \\frac{\\partial}{\\partial y}\\hat{j} + \\frac{\\partial}{\\partial z}\\hat{k}$  \n",
    "<br>Da mesma forma que funções para cada componente da velocidade foram usadas para expressar o vetor velocidade, funções para cada componente da aceleração também serão usadas para facilitar a visualização do vetor aceleração.\n",
    "<br>$a_x=\\frac{\\partial u}{\\partial t} + u\\frac{\\partial u}{\\partial x} + v\\frac{\\partial u}{\\partial y}+ w\\frac{\\partial u}{\\partial z}$  \n",
    "<br>$a_y=\\frac{\\partial v}{\\partial t} + u\\frac{\\partial v}{\\partial x} + v\\frac{\\partial v}{\\partial y}+ w\\frac{\\partial v}{\\partial z}$  \n",
    "<br>$a_z=\\frac{\\partial w}{\\partial t} + u\\frac{\\partial w}{\\partial x} + v\\frac{\\partial w}{\\partial y}+ w\\frac{\\partial w}{\\partial z}$  \n",
    "<br>$\\vec{a}=a_x\\hat{i}+a_y\\hat{j}+a_z\\hat{k}$"
   ]
  },
  {
   "cell_type": "markdown",
   "id": "766f6c5e-5268-49b4-8658-925648f250b6",
   "metadata": {
    "tags": []
   },
   "source": [
    "## Exemplo 1"
   ]
  },
  {
   "cell_type": "markdown",
   "id": "a89f85d6-6ef9-4da8-9878-7604248b4e4a",
   "metadata": {},
   "source": [
    "O escoamento bidimensional incompressível estacionário é dado por:    \n",
    "$\\vec{V}= (u,v) = (0.5+ 0.8x)\\hat{i} + (1.5 - 0.8y)\\hat{j}$    \n",
    "Trace os campos de velocidade e aceleração e encontre os pontos de equilíbrio e estagnação, para os limites dados:   \n",
    "$-2<x<2$  \n",
    "$0<y<5$"
   ]
  },
  {
   "cell_type": "markdown",
   "id": "60390360-2471-4132-a416-aa204365b149",
   "metadata": {},
   "source": [
    "## Exemplo 2"
   ]
  },
  {
   "cell_type": "markdown",
   "id": "697ab7c6-a8c7-4bf8-9480-326a02108f89",
   "metadata": {},
   "source": [
    "O escoamento permanente e incompressível é dado por:    \n",
    "<br> $\\vec{V}=(0.523-1.88x+ 3.94y)\\hat{i} + (-2.44+1.26x + 1.88y)\\hat{j}$  \n",
    "<br>Calcule a aceleração em $(x,y)=(-1.55,2.07)$"
   ]
  },
  {
   "cell_type": "markdown",
   "id": "3d0014ff-96f9-4dcc-8b83-85278bb13240",
   "metadata": {},
   "source": [
    "## Exemplo 3\n",
    "\n",
    "O escoamento em uma região é descrito por:  \n",
    "<br>$\\vec{V}=(xz^2e^{-t})\\hat{i} + 5(zsin(x)e^{-2t})\\hat{j} + (zcos(x)e^{-3t})\\hat{k})$  \n",
    "<br>Mostre a linha de corrente para todos os seis planos de velocidade e aceleração  "
   ]
  }
 ],
 "metadata": {
  "kernelspec": {
   "display_name": "Python 3 (ipykernel)",
   "language": "python",
   "name": "python3"
  },
  "language_info": {
   "codemirror_mode": {
    "name": "ipython",
    "version": 3
   },
   "file_extension": ".py",
   "mimetype": "text/x-python",
   "name": "python",
   "nbconvert_exporter": "python",
   "pygments_lexer": "ipython3",
   "version": "3.11.2"
  }
 },
 "nbformat": 4,
 "nbformat_minor": 5
}
